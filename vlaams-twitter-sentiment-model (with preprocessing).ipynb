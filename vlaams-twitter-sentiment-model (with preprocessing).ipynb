{
 "cells": [
  {
   "cell_type": "code",
   "execution_count": 250,
   "id": "28823d52",
   "metadata": {},
   "outputs": [
    {
     "name": "stderr",
     "output_type": "stream",
     "text": [
      "Predicting...: 100%|██████████| 3/3 [00:08<00:00,  2.88s/it]\n"
     ]
    },
    {
     "data": {
      "text/plain": [
       "['NEUTRAL',\n",
       " 'POSITIVE',\n",
       " 'POSITIVE',\n",
       " 'NEGATIVE',\n",
       " 'NEUTRAL',\n",
       " 'NEUTRAL',\n",
       " 'NEUTRAL',\n",
       " 'NEUTRAL',\n",
       " 'NEGATIVE',\n",
       " 'NEGATIVE',\n",
       " 'NEUTRAL',\n",
       " 'POSITIVE',\n",
       " 'NEUTRAL',\n",
       " 'POSITIVE',\n",
       " 'POSITIVE',\n",
       " 'NEGATIVE',\n",
       " 'NEUTRAL',\n",
       " 'NEUTRAL',\n",
       " 'NEGATIVE',\n",
       " 'NEGATIVE',\n",
       " 'NEUTRAL',\n",
       " 'NEGATIVE',\n",
       " 'NEUTRAL',\n",
       " 'NEUTRAL',\n",
       " 'NEUTRAL',\n",
       " 'NEGATIVE',\n",
       " 'NEGATIVE',\n",
       " 'NEGATIVE',\n",
       " 'NEGATIVE',\n",
       " 'NEGATIVE',\n",
       " 'NEUTRAL',\n",
       " 'NEUTRAL',\n",
       " 'NEUTRAL',\n",
       " 'NEUTRAL',\n",
       " 'NEUTRAL',\n",
       " 'NEUTRAL',\n",
       " 'NEUTRAL',\n",
       " 'NEUTRAL',\n",
       " 'NEUTRAL',\n",
       " 'NEGATIVE',\n",
       " 'POSITIVE',\n",
       " 'NEUTRAL',\n",
       " 'NEGATIVE',\n",
       " 'NEUTRAL',\n",
       " 'NEUTRAL',\n",
       " 'NEGATIVE',\n",
       " 'POSITIVE',\n",
       " 'NEUTRAL',\n",
       " 'POSITIVE',\n",
       " 'NEGATIVE',\n",
       " 'NEGATIVE',\n",
       " 'NEGATIVE',\n",
       " 'NEUTRAL',\n",
       " 'POSITIVE',\n",
       " 'NEUTRAL',\n",
       " 'NEGATIVE',\n",
       " 'NEGATIVE',\n",
       " 'NEUTRAL',\n",
       " 'NEGATIVE',\n",
       " 'POSITIVE',\n",
       " 'NEGATIVE',\n",
       " 'NEUTRAL',\n",
       " 'POSITIVE',\n",
       " 'NEUTRAL',\n",
       " 'NEUTRAL',\n",
       " 'NEGATIVE']"
      ]
     },
     "execution_count": 250,
     "metadata": {},
     "output_type": "execute_result"
    }
   ],
   "source": [
    "from twitter_sentiment_classifier import batch_predict\n",
    "\n",
    "import pandas\n",
    "colnames = [ c for c in \"abcdefghujklmnopqrst\"]\n",
    "data = pandas.read_csv('C:\\\\Users\\\\nadeg\\\\Downloads\\\\tweet_per_provincie_Antwerpenvervoer.csv', names=colnames, sep= ',') #geef eigen doc in\n",
    "texts = data.o.tolist()[1:]\n",
    "for i in range(0,len(texts)):\n",
    "    #preprocessing stap: errors elimineren\n",
    "    texts[i] = texts[i].replace(\"\\n\",\" \")\n",
    "    texts[i] = texts[i].replace(\"\\t\",\" \")\n",
    "    texts[i] = texts[i].replace(\"\\r\",\" \")\n",
    "    \n",
    "batch_predict(texts)"
   ]
  }
 ],
 "metadata": {
  "kernelspec": {
   "display_name": "Python 3 (ipykernel)",
   "language": "python",
   "name": "python3"
  },
  "language_info": {
   "codemirror_mode": {
    "name": "ipython",
    "version": 3
   },
   "file_extension": ".py",
   "mimetype": "text/x-python",
   "name": "python",
   "nbconvert_exporter": "python",
   "pygments_lexer": "ipython3",
   "version": "3.9.7"
  }
 },
 "nbformat": 4,
 "nbformat_minor": 5
}
