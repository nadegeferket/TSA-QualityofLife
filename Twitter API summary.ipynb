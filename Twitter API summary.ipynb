{
 "cells": [
  {
   "cell_type": "code",
   "execution_count": 3,
   "id": "0678cf48",
   "metadata": {},
   "outputs": [
    {
     "name": "stdout",
     "output_type": "stream",
     "text": [
      "Requirement already satisfied: tweepy in c:\\users\\nadeg\\anaconda3\\lib\\site-packages (4.12.1)\n",
      "Requirement already satisfied: requests<3,>=2.27.0 in c:\\users\\nadeg\\anaconda3\\lib\\site-packages (from tweepy) (2.28.1)\n",
      "Requirement already satisfied: requests-oauthlib<2,>=1.2.0 in c:\\users\\nadeg\\anaconda3\\lib\\site-packages (from tweepy) (1.3.1)\n",
      "Requirement already satisfied: oauthlib<4,>=3.2.0 in c:\\users\\nadeg\\anaconda3\\lib\\site-packages (from tweepy) (3.2.0)\n",
      "Requirement already satisfied: certifi>=2017.4.17 in c:\\users\\nadeg\\anaconda3\\lib\\site-packages (from requests<3,>=2.27.0->tweepy) (2021.10.8)\n",
      "Requirement already satisfied: urllib3<1.27,>=1.21.1 in c:\\users\\nadeg\\anaconda3\\lib\\site-packages (from requests<3,>=2.27.0->tweepy) (1.26.7)\n",
      "Requirement already satisfied: charset-normalizer<3,>=2 in c:\\users\\nadeg\\anaconda3\\lib\\site-packages (from requests<3,>=2.27.0->tweepy) (2.0.4)\n",
      "Requirement already satisfied: idna<4,>=2.5 in c:\\users\\nadeg\\anaconda3\\lib\\site-packages (from requests<3,>=2.27.0->tweepy) (3.2)\n",
      "Note: you may need to restart the kernel to use updated packages.\n"
     ]
    }
   ],
   "source": [
    "pip install tweepy"
   ]
  },
  {
   "cell_type": "code",
   "execution_count": 4,
   "id": "47a125b0",
   "metadata": {},
   "outputs": [],
   "source": [
    "import tweepy"
   ]
  },
  {
   "cell_type": "markdown",
   "id": "2eebf0e7",
   "metadata": {},
   "source": [
    "### AUTHENTICATION TO TWITTER API"
   ]
  },
  {
   "cell_type": "code",
   "execution_count": 5,
   "id": "a92d564f",
   "metadata": {},
   "outputs": [],
   "source": [
    "api_key = \"7QYx97CYLi5FGgfqdtqVF9hMq\"\n",
    "api_secrets = \"oKsnPVjyMB7t41F485ykygIARdK83pPnttfJVsTeFCO7w5xinz\"\n",
    "access_token = \"1444958072779288590-Vy9PjHzfNeN16u8McWIJsGfk2LxQhN\"\n",
    "access_secret = \"6s6GdikBh8LCC40YLyjrO6C5HVV5yy5kqJZKASRlZb1s4\""
   ]
  },
  {
   "cell_type": "code",
   "execution_count": 6,
   "id": "a4f5989b",
   "metadata": {},
   "outputs": [],
   "source": [
    "auth = tweepy.OAuthHandler(api_key, api_secrets)\n",
    "auth.set_access_token(access_token,access_secret)"
   ]
  },
  {
   "cell_type": "code",
   "execution_count": 7,
   "id": "f9d43c70",
   "metadata": {},
   "outputs": [],
   "source": [
    "api = tweepy.API(auth)"
   ]
  },
  {
   "cell_type": "code",
   "execution_count": 34,
   "id": "81e4582a",
   "metadata": {},
   "outputs": [
    {
     "data": {
      "text/plain": [
       "<tweepy.api.API at 0x1bcde0a3490>"
      ]
     },
     "execution_count": 34,
     "metadata": {},
     "output_type": "execute_result"
    }
   ],
   "source": [
    "api"
   ]
  },
  {
   "cell_type": "code",
   "execution_count": 8,
   "id": "2e37567e",
   "metadata": {},
   "outputs": [
    {
     "data": {
      "text/plain": [
       "User(_api=<tweepy.api.API object at 0x000001BCDE0A3490>, _json={'id': 1444958072779288590, 'id_str': '1444958072779288590', 'name': 'Manon Reusens', 'screen_name': 'ManonReusens', 'location': '', 'description': '', 'url': None, 'entities': {'description': {'urls': []}}, 'protected': False, 'followers_count': 0, 'friends_count': 0, 'listed_count': 0, 'created_at': 'Mon Oct 04 09:33:04 +0000 2021', 'favourites_count': 0, 'utc_offset': None, 'time_zone': None, 'geo_enabled': False, 'verified': False, 'statuses_count': 0, 'lang': None, 'contributors_enabled': False, 'is_translator': False, 'is_translation_enabled': False, 'profile_background_color': 'F5F8FA', 'profile_background_image_url': None, 'profile_background_image_url_https': None, 'profile_background_tile': False, 'profile_image_url': 'http://abs.twimg.com/sticky/default_profile_images/default_profile_normal.png', 'profile_image_url_https': 'https://abs.twimg.com/sticky/default_profile_images/default_profile_normal.png', 'profile_link_color': '1DA1F2', 'profile_sidebar_border_color': 'C0DEED', 'profile_sidebar_fill_color': 'DDEEF6', 'profile_text_color': '333333', 'profile_use_background_image': True, 'has_extended_profile': True, 'default_profile': True, 'default_profile_image': True, 'following': False, 'follow_request_sent': False, 'notifications': False, 'translator_type': 'none', 'withheld_in_countries': [], 'suspended': False, 'needs_phone_verification': False}, id=1444958072779288590, id_str='1444958072779288590', name='Manon Reusens', screen_name='ManonReusens', location='', description='', url=None, entities={'description': {'urls': []}}, protected=False, followers_count=0, friends_count=0, listed_count=0, created_at=datetime.datetime(2021, 10, 4, 9, 33, 4, tzinfo=datetime.timezone.utc), favourites_count=0, utc_offset=None, time_zone=None, geo_enabled=False, verified=False, statuses_count=0, lang=None, contributors_enabled=False, is_translator=False, is_translation_enabled=False, profile_background_color='F5F8FA', profile_background_image_url=None, profile_background_image_url_https=None, profile_background_tile=False, profile_image_url='http://abs.twimg.com/sticky/default_profile_images/default_profile_normal.png', profile_image_url_https='https://abs.twimg.com/sticky/default_profile_images/default_profile_normal.png', profile_link_color='1DA1F2', profile_sidebar_border_color='C0DEED', profile_sidebar_fill_color='DDEEF6', profile_text_color='333333', profile_use_background_image=True, has_extended_profile=True, default_profile=True, default_profile_image=True, following=False, follow_request_sent=False, notifications=False, translator_type='none', withheld_in_countries=[], suspended=False, needs_phone_verification=False)"
      ]
     },
     "execution_count": 8,
     "metadata": {},
     "output_type": "execute_result"
    }
   ],
   "source": [
    "api.verify_credentials()"
   ]
  },
  {
   "cell_type": "code",
   "execution_count": 19,
   "id": "499bcb81",
   "metadata": {},
   "outputs": [],
   "source": [
    "client = tweepy.Client(bearer_token='AAAAAAAAAAAAAAAAAAAAAHXvUQEAAAAAPQ%2FXl8vv2ZxuPlNEMn%2BbAvOg428%3DCNmiqFmvchzJIzzhLvyFBvL1mnOuwGjALg6uSbECpZIojXxUIM')"
   ]
  },
  {
   "cell_type": "markdown",
   "id": "262c38d7",
   "metadata": {},
   "source": [
    "### Request 100 tweets on Covid, excluding retweets"
   ]
  },
  {
   "cell_type": "code",
   "execution_count": 20,
   "id": "9825e83e",
   "metadata": {},
   "outputs": [],
   "source": [
    "query = 'covid -is:retweet'\n",
    "\n",
    "tweets = client.search_recent_tweets(query=query, tweet_fields=['context_annotations', 'created_at'],\n",
    "                                     user_fields=['profile_image_url'], expansions='author_id', max_results=100)"
   ]
  },
  {
   "cell_type": "code",
   "execution_count": 21,
   "id": "a115679f",
   "metadata": {},
   "outputs": [
    {
     "data": {
      "text/plain": [
       "Response(data=[<Tweet id=1589630007831207936 text=\"@brithume In 2020 Trump also got a pass for his covid policies because we had to try to beat Biden.  \\n\\nBut in a primary now he will be held accountable as he should be for the lockdowns and rushed vax push.\\n\\nAnd Trump has had the gall to attack DeSantis' handling of covid... https://t.co/p0a2ggwilB\">, <Tweet id=1589630007630233600 text='@lopezobrador_ Buen día payaso lastimita\\nMesías multiplicador de 200 pesos\\nRey de los otros datos\\nPríncipe de la transparencia ajena\\nLord de la realidad alterna\\nTenemos\\n460 mil muertos de covid\\n140 mil muertos de abrazos\\n4 millones más de pobres\\nTanto la apoya que pone dos floreros a dirigir'>, <Tweet id=1589630003364655106 text='Pf cancelem o covid ele não pode voltar'>, <Tweet id=1589630001720107009 text='Os fazendarios que morreram de covid continuam esperando o pagamento dos precarios https://t.co/dwAXQCXUHS'>, <Tweet id=1589630001707876353 text='Brasil\\n\\nBolsonaro, ses ministres et alliés doivent être jugés pour l’ensemble des crimes commis, Amazonie, Covid, assassinats, corruption de très haut niveau et lui ne peut bénéficier d’aucune amnistie! #BolsonaroNaCadeia @vanessasoaresc4 @Claudia_Sarti13 https://t.co/CiUAYzxsSf'>, <Tweet id=1589630001137479680 text='@choquei Apaga saporra!!!\\n\\nPronunciamento nem foi referente Covid!!!\\n\\nSensacionalistas!'>, <Tweet id=1589630000504115200 text='@gorka_orive En un país donde la obesidad roda el 42% dudo que  el covid sea la causa de esos síntomas ... https://t.co/HoKpsVwklZ'>, <Tweet id=1589629999078084614 text='@gaularn @benshapiro Ron won’t use that nickname.. Unlike you guys, he knows what really happened, Trump wanted to focus only on covid hotspots but DeSantis turned it into a statewide lockdown… The whole “Florida freest state” narrative is BS. DeSantis is a huge fraud &amp; Trump will easily expose him.'>, <Tweet id=1589629998763507712 text='Apple Inc. expects lower shipments of high-end iPhone 14 models than previously anticipated following a significant production cut at a virus-blighted plant in China, dampening its sales outlook for the year-end holiday season. https://t.co/B0mJCpmuIr'>, <Tweet id=1589629997316468738 text='muita falta de ar se for covid eu vou matar um'>, <Tweet id=1589629996879949824 text='Galera, vai tomar a dose de reforço da Covid pelamordedeus, chega de variante nessa merda...'>, <Tweet id=1589629996557017088 text='@edafe_richard @Matty3782278 @leonbailey Must have started watching football after Covid 19'>, <Tweet id=1589629996305645569 text=\"Ressource⬇️:\\n🔹Page Web d'Inclusion Canada: L'emploi dans le contexte de la COVID - Les personnes handicapées se montrent à la hauteur de la situation (en anglais): https://t.co/G6FpSmu9PH\">, <Tweet id=1589629996062031872 text='Activan restricciones en #Cantón ante casi 2 mil infecciones de #covid https://t.co/lFu3NEwNeh #07nov'>, <Tweet id=1589629995764559872 text='@ElectionWiz They’re too busy arresting a guy with a walking stick in his back pocket!  Remember, it was the Police who freely enforced all the covid rules!'>, <Tweet id=1589629994300755969 text=\"I don't know why anyone cares what Bill Bates thinks it says! It's obvious what his goals are, and it's nothing good for the people. His goal is to reduce the world population, and CoVid was a trial run.\\n\\nhttps://t.co/636Dyj8xE2\">, <Tweet id=1589629992727904256 text='Didn’t vote early because I’m dumb but I think I caught a respiratory bug of some kind (please not Covid) and now I’m reluctant to vote at the polls tomorrow because I don’t want to spread what I may have. Any ideas?'>, <Tweet id=1589629990253072384 text='Covid is still packing a punch--for employers trying to manage their workforces. “Clients are done with the Covid excuse.” https://t.co/LiY0apFGut'>, <Tweet id=1589629988529008640 text='@pam33771 La question est plutôt : où sont les décès dus au vaccin Covid ?'>, <Tweet id=1589629987875090432 text='@_Tom_Henderson_ @Doog_919 I think because of covid'>, <Tweet id=1589629986847490048 text='So at the OILERS-FLAMES game last SATURDAY Night the kind lady sitting next to me made a point of telling me she didnt have COVID, she neglected to mention about the BRONCHITIS/Strep now sweeping through my Family. #thanksforchatting'>, <Tweet id=1589629985933127683 text='Será por la vacuna, no del covid https://t.co/9I1dxmXRFn'>, <Tweet id=1589629984095625216 text='@newvisionwire Was it the satelite that stopped her from realizing Covid 19 vaccine 💉 which Ugandans spent billions on and up to now its  nowhere to be seen 🤷🤷'>, <Tweet id=1589629984091836426 text=\"@nathaliejacoby1 I wear them today I will wear one at the grocery today got my high dose flu shot next week my third covid booster why?  I am not a stupid trumpet I know anti vaxers personally who are still dead from covid\\nu can prevent dead, but you can't fix dead.\">, <Tweet id=1589629978127523846 text='A Cobb County school board member said that Catholics are not Christian, a remark denounced as offensive.David Banks, has a history of making inflammatory comments, calling COVID-19 the “China virus” and describing a constituent who favored face masks in schools as a “mask Nazi.”'>, <Tweet id=1589629976944738305 text='@Covid_Stinks @sinclair_geoff @VancouverSun It’s called society'>, <Tweet id=1589629974897913859 text='#lockdownDon keep dropping these! I agree. He did not rise to the occasion when COVID called we need a true courageous leader like @GovRonDeSantis to ensure it never happens again! https://t.co/7TjIWNchFI'>, <Tweet id=1589629974855954437 text='@JeffSchamahorn @govt_corrupt Many of us had to get two shots just to stay employed.  And many others finally saw through the BS and stopped getting shots when they got Covid and found out it is just the flu.'>, <Tweet id=1589629974558179330 text='@drroom2 Jeder kennt zehn Menschen die an der Impfung gestorben sein sollen, aber alle Corona-Foten waren entweder altersschwach und eh so gut wie tot oder gleich von denen™ erfunden.\\nLong Covid von Corona ist erfunden, aber Long Covid der Impfung haben alle.\\nIrgendwann reichts.'>, <Tweet id=1589629965251014658 text='é rapaziada, quem teve contato comigo semana passada pra ca toma cuidado que meu teste de covid deu positivo'>, <Tweet id=1589629963309047808 text='PREVENT-HD is a randomized double blind placebo controlled event driven study in symptomatic patients with positive covid 19 https://t.co/PbuvypMVH1'>, <Tweet id=1589629963220971521 text='@dylheaton1 You. Gave. Me. Covid.'>, <Tweet id=1589629962285305856 text=\"Retweeting this to get the morning rush post 9am (assuming that's still a thing post-Covid/WFH...) https://t.co/ZqLalg5ixg\">, <Tweet id=1589629961887006720 text='*LÍDERES CHINOS PONDEN MEDIDAS HACIA LA REAPERTURA DE CERO-COVID, PERO NO ESTABLECEN CRONOGRAMA - FUENTES - WSJ\\n\\n🇨🇳🇨🇳 https://t.co/xAxLtbyksT https://t.co/Wys7ov09lp'>, <Tweet id=1589629959718346752 text='@Lukita_84 @lisjehison Pero su recuperación está entre las 5 economías del mundo. Pero ustedes nunca van a reconocer nada. Sin contar el manejo de las vacunas y el proceso de covid que no lo digo yo lo dice la OMS. Ni para que desgastarse pensas muy diferente solo te digo que las cifras no mienten.'>, <Tweet id=1589629956925317126 text='@tedcruz https://t.co/asvuaRBf9S'>, <Tweet id=1589629955499261957 text='@PrisonPlanet No!  My wife and I age 80 did not get vaccinated.  We both contracted covid twice.  Once 2020 and once 2022.  We have had covid less than a lot of my friends who were fully vaccinated. To me this is a strong indication that the vaccines are worthless.  Or less.'>, <Tweet id=1589629952592588801 text='Ciudad china de Cantón registra casi 2.000 casos de covid-19 e impone restricciones - https://t.co/uVUG51T6WT #Mundo #COVID19 #Virus'>, <Tweet id=1589629949656563712 text='But, I am surprized with your advocacy towards classical theory despite it failing on multiple occasions (the great depression,2008,covid) sometimes governments must intervine to maintain order and all of this has a price.. As for education and health..'>, <Tweet id=1589629948930981889 text='@CatTamira @schweizok2 Natürlich:\\nhttps://t.co/8MEu0dV1sg'>, <Tweet id=1589629947400052736 text='@WrecklessGamer Heartbreaking, how anyone can\\'t see this is so wrong is beyond me.\\nThanks for sharing your story. Sadly it\\'s still going on. Many care homes in \"covid outbreak\" status and only the care partner allowed in (if even). Residents confined to their rooms 😭'>, <Tweet id=1589629946443726851 text='Schoolchildren from the municipality of Bălți have strengthened their skills in fighting the COVID-19 pandemic and raised their awareness about immunization and vaccination through participation in educational games. #DIALOGICA @UNICEFMoldova @USAID @FCDOGovUK https://t.co/uAyy0V96zp'>, <Tweet id=1589629945692950529 text='@gp_mihalache @elonmusk 😂 but didn’t you get some helpful info on here? Getting covid info from the experts in March 2020 was what brought me to Twitter. I was relieved not to have the info filtered.'>, <Tweet id=1589629945482858496 text='¡Saludos! \\n ¿Harto del covid-19? \\n Únete a nuestra comunidad y diviértete charlando con gente \\n Grupo de WhatsApp: https://t.co/Izeuz01LJb \\n Cuando accedas tendrás que decir la contraseña:  YOSHIGOLFO  \\n #FelizJueves'>, <Tweet id=1589629943721627649 text='@Muzi31071104 @goolammv Was it his fault you lost the salary was it not because of the covid .....and how much you Wana get paid if you did not work for the money'>, <Tweet id=1589629939133059072 text='I can smell this picture, and i lost my sense of smell from covid https://t.co/ABN80p9QE7'>, <Tweet id=1589629937102688261 text='@ManoLongo77 @EdwinCe0 @JJRAMIREZP @angelicabertoli @19sanguillen @JaenGarcia10 @ONUPanama A estas alturas poner foto de perfil con una mascarilla puesta es completamente de idiotas. 4 y hasta 5 💉💉  no los han protegido ni del covid ni de la idiotez.'>, <Tweet id=1589629937090453506 text=\"@HillaryClinton @JoeBiden also, the 400,000 jobs comes from the fact a bunch of people weren't working during COVID, Biden made back some of the numbers he lost...why do politicians act this way lol\">, <Tweet id=1589629936524210176 text=\"@vivekagnihotri While scientists and covid warriors were fighting, Modi's contribution was Thaali and tali bajao, Diya Jalao. https://t.co/lAGMnpLPWm\">, <Tweet id=1589629935223984129 text='@AlexBerenson @elonmusk Stick to covid Alex. This is unbecoming'>, <Tweet id=1589629934871674881 text=\"@Louisdebernard @thepasteurpoint @PrasMao Forced? Chosen!\\nWhereas those suffering and still waiting for surgery two years on because the NHS turned itself into a Covid Service will now have even longer to wait if there's a strike!\\nCaring nurses? Don't think so\">, <Tweet id=1589629934829703169 text='https://t.co/u5HOahe90r'>, <Tweet id=1589629932527063041 text='@RonJohnsonWI Really?  How?\\n\\nBy lying about COVID and vaccinations?\\nBy not acknowledging Biden won the Presidency?\\nBy being a Putin puppet?'>, <Tweet id=1589629931721740290 text='@KenHalloftnorth @bobscartoons i was hospitalised by covid and witnessed the nurses in action - they have no clue n are not qualified to make value judgements, docs are\\n\\notherwise in agreement re pharma'>, <Tweet id=1589629930622488576 text='Ford is Fiscally Irresponsible\\nhttps://t.co/6dLxYZkqeB'>, <Tweet id=1589629928454393857 text='@USConst_Amend_I Even if Berenson were 100% incorrect about all of the Covid claims that he made, he had the right to make them under the 1st Amendment, without the White House pressuring private companies to censor him.\\n\\nYou are a collaborator with the government, not a defender of Free Speech.'>, <Tweet id=1589629928018178053 text='@purplcabbage Well no one knows how effective it is. But there\\'s no model of \"controlling Covid via lockdowns\" that doesn\\'t look like what the CCP is doing.'>, <Tweet id=1589629927355453442 text=\"Liverpool's arts providers are unsung heroes of the Covid crisis  https://t.co/Xnf8N0cT7g @NML_Muse @CWNNLpool @liverpoolphilEd @LivEveryPlay @joanneworsley9 @KatiaBalabanova @DigiPolCentre @LivUniEnglish @CommediaLivUni @sotauol @livuniHSS @PandemicBeyond @ahrcpress\">, <Tweet id=1589629926998970368 text='@ModifiedShekhar @p_sahibsingh @ArvindKejriwal Delhi govt hospital lnjp hospital( main )\\nGtb hospital \\nDeepchand Bandhu\\nSanjay Gandhi\\nIndra gandhi\\nIn sb mai covid warriors ko unki job se nikal diya gya h'>, <Tweet id=1589629926613069824 text='Hello! @paulsregor Are you interested in Orienteering? GoGain is Orienteering for the COVID era. Take a look. https://t.co/ufDPodSx4G'>, <Tweet id=1589629926298177536 text='Damit können sie sich dann auch eine ordentliche Behandlung der Post Covid-Schäden oder psych. Belastung leisten! So geht Sozialpolitik https://t.co/FpS4c6sLaK'>, <Tweet id=1589629926155915270 text=\"@GovNedLamont Ned are you going to Mandate that our precious children get the covid vaccine in order to go to school? It's not a tough question, so why dont you answer it? Connecticut families have the right to know. We deserve better Connecticut 😔\">, <Tweet id=1589629924402659329 text=\"@scissorsisters @Jakeshears \\n\\nI Don't Feel Like Dancin' \\U0001faa9💃🏻\\n\\nhttps://t.co/uBxsnnDByh via @YouTube\\n\\n📱🥇 🎶🎵\\n\\n#IMOPresents #happynerdgirl #peddlingla #sexlessinthecity #IMOVoice #MM\\n\\n#MusicAlert \\n\\n#MusicMonday\\n\\n#COVID\\n\\nI Stand With Black Lives\\n\\n#WearAMask #GetVaccinated #VOTE\">, <Tweet id=1589629923794505730 text='@TomTSEC Fundamentally, a distrust of the everyday person. \"You\\'re too stupid to know the truth unless I tell you what to think!\"\\n\\nPost-COVID, the vaccine uptake numbers are telling a different tale.'>, <Tweet id=1589629920707125249 text='@BouchraAwake 🚫\"Une efficacité négative signifie qu\\'une personne vaccinée est plus susceptible de souffrir d\\'une maladie qu\\'une personne non vaccinée.\"🚫\\nExactement ce que l\\'on dit depuis + 2 ans\\nhttps://t.co/xTsCMrQnIp'>, <Tweet id=1589629918564212736 text='@SquintyNoodle They offer a different approach &amp; policies.\\n\\nThey were more flexible w/ covid here. I know a number of students (I work with homeschoolers) who went to the self paced high school.\\n\\nI think as a very general rule, the more choices available to families, the better it will be.😎'>, <Tweet id=1589629915464626176 text='@KayeDiefendorf @DeTocqueville14 @DanRather Uh-He just said He’s had all the recommended doses; then said he has covid aka acknowledged the vax didn’t prevent symptomatic covid aka didn’t work; followed by saying he’s taking paxlovid, but admits he’s weary aka not convinced he won’t get rebound infection aka it won’t work'>, <Tweet id=1589629914265030656 text=\"This past weekend we hosted in partnership with @TOPublicHealth two walk-in flu and COVID-19 vaccination clinics in Toronto's West End. It was a resounding success. Thank you to everyone who showed up and got vaccinated! https://t.co/uvewHtOqIV\">, <Tweet id=1589629914210529280 text='@Vagyanik2_0 Yes coz of covid the rush was less.'>, <Tweet id=1589629912599887872 text='A mídia divulgando aumento de caso de COVID. Veja o que esta profissional está dizendo.\\n Mais uma pérola dos mentirosos. \\nEles querem tirar as pessoas das ruas. \\n#firmesnaluta https://t.co/8bVujc7CaV'>, <Tweet id=1589629910305615872 text='@Shrdlu I missed that.\\nBut Feigl-Ding is quite suspicious too, he came to fame with COVID and dubious theories.\\nWell, asking if Musk is an inventor is indicative indeed, I agree. I thought better of The Atlantic, but, well ...'>, <Tweet id=1589629909223493635 text='@jrojas9 @waltwould #Covid vaccines should NOT be mandated for #Connecticut kids. \\n\\nVote Republican. RT\\n\\n#EastHartford #Glastonbury #Newington #Darien #Farmington #Greenwich #Milford #Wethersfield https://t.co/oqmYHBYZe2'>, <Tweet id=1589629908866961413 text='@Hampson14Jane @DrJamesOlsson But not the covid jabs.'>, <Tweet id=1589629908736954368 text='@p_duval Tout en ignorant l\\'optiflow et les resultats sans failles d\\'autres ehpad?\\nSelon quels criteres donc?\\nle gouvernement responsable jamais coupable délègue à d\\'autres , la par contre, un vague très acceptable pour lui\\n\"SUSCEPTIBLES d\\'avoir le covid\"'>, <Tweet id=1589629906417487873 text='@GeorgeTakei And for fake $cience. And for silencing doctors sharing the truth. You know, like the Left did all through COVID-19.\\n\\nFUCK the vaccinated!\\n\\n#NoAmnesty #noamnestyforcovidtyranny'>, <Tweet id=1589629906060988416 text='China making virus deadlier than Covid in Pakistan: Report https://t.co/XzpRUvezGK'>, <Tweet id=1589629906027438080 text='@aragon_jb 39 cas pour 100 000 habitants actuellement.\\nUne épidémie commençait à partir de 150 /200 cas pour 100 000 h avant la modification des textes en début de covid.'>, <Tweet id=1589629898788077569 text='https://t.co/y1youybFBH: So is getting a COVID booster.'>, <Tweet id=1589629898465103874 text='@BarouniaA @_mizmo Chérie pour toi 🤡.                                    MIRACLE A  L’EHPAD DE L’ISLEd’ESPAGNAC:Ts ls résidents ont survécu au #Covid!L’Ars se posait la question pourquoi pas de morts?1enquête  a été menée pr découvrir que le médecin ls avait empêché de mourir en ls soignant'>, <Tweet id=1589629898372812803 text='#CUPE couldn’t even stand with their own brothers and sisters when they were terminated during Covid for not taking the vax. And they expect people to stand with them ? Get real ! #IdontstandwithCUPE'>, <Tweet id=1589629897999122433 text='In Italia girano sei fessi così fessi da pensare che, siccome ora si possono allentare le misure anti Covid, questo proverebbe che mascherine greenpass e vaccini non servivano. Come dire, quando albeggia, che è stato inutile illuminare le strade nella notte.'>, <Tweet id=1589629897437503488 text='ao filho da puta que me passou covid vai tomar no cu'>, <Tweet id=1589629896615235584 text=\"We're taking walk-ups for COVID vaccinations and boosters this week. We'll be closed Friday for Veterans Day. https://t.co/KmAqmwNpAs\">, <Tweet id=1589629895046729728 text='@SineRequie @CesareProto @radiosilvana Anche mia sorella così, ma a parte il vaccino, aveva già avuto il Covid (in maniera abbastanza severa) per cui i suoi anticorpi erano più forti dei miei. Io solo con immunità da vaccino, ho faticato di più.'>, <Tweet id=1589629894199496704 text='@fesshole A former work colleague was in a zoom meeting during covid lock down and messaged no less than 850 staff a porn hub link.\\n\\nNeedless to say, he was sacked immediately'>, <Tweet id=1589629892878032903 text='El COVID golpea a los iPhone 14 Pro, menos producción y más retrasos https://t.co/YZh2scfpDo'>, <Tweet id=1589629892525969408 text='Tetap jaga protkes varian baru covid-19 pacu kenaikan kasus covid-19 di Indonesia.\\n\\nPak Jokowi lawan pandemi https://t.co/41gNAnpt4u'>, <Tweet id=1589629889048875008 text='@GloboNews @LeilaneNeubarth @camilabomfim Agora apareceu a COVID,kkkkk\\nEu quero saber é do relatório das Forças Armadas.'>, <Tweet id=1589629888981790720 text='@tedcruz Now Teddy, if you were an honest person, you should have clarified that this had nothing to do with Covid. But you’re not honest, are you?'>, <Tweet id=1589629886251302913 text='@UfcBorrachinha @guiixnzz_ @EdsonYamamotoK @Miltonneves Gente burra toma cloroquina contra COVID!'>, <Tweet id=1589629885508878336 text='@MattWalshBlog Other than death there are no Covid vaccine side effects, Pfizer claims.'>, <Tweet id=1589629884477100032 text='The basic gist of this article as far as I can tell is that China should go “back to normal” because other countries have lightened their Covid policies and their cases have been declining.\\n\\nThis year alone the US had 225,000 Covid deaths.\\nChina has had 5,000 Covid deaths TOTAL. https://t.co/tD2s9w2Hk9'>, <Tweet id=1589629883923468290 text='@boni_castellane Le basi. 😂 (ridere per non piangere) Il cdx dopo avere perso Milano, si sta ingegnando per perdere anche la Regione. Ricandidare Fontana dopo la gestione non da cdx del covid, è follia. La gente non dimentica.'>, <Tweet id=1589629882837143554 text='masih covid virgin. 😀 https://t.co/3A0TaRsDyZ'>, <Tweet id=1589629882580942850 text='@HuXijin_GT and China cant survive the next 6 months with zero covid policy 😉'>, <Tweet id=1589629881641742338 text='FINLAND EXPOSES  DEMOCRAT COMMUNIST PARTY FRAUD COVID  POWER, MONEY GRAB MAIL IN BALLOT ELECTION STEAL\\nFinland Exposes Massive Covid Reporting Scandal: Nearly 40% of ‘Covid Deaths’ Were Fraudulent\\n-\\nhttps://t.co/Lnd41qeiBF'>, <Tweet id=1589629879813033986 text='@MichelleCelina @_Bestattung Ist deine Oma denn an COVID gestorben?🤔\\n\\nSonst ergibt das doch gar keinen Sinn. Oder wollte der euch betuppen und die Kohle für andere Klamotten kassieren!'>, <Tweet id=1589629879737520128 text='@gabisp22 Já tem vídeo de uma médica dizendo que é tudo mentira a volta do covid! Tudo armação da esquerda!'>, <Tweet id=1589629870195507202 text='@RBReich @leahcohenPOTB It is not this simple. However wage increases and money (large amounts) injected into the system indeed are partial factors. Covid and the resulting policies are not any political party’s fault.'>, <Tweet id=1589629870048698368 text='Jehovah Witnesses generally refuse blood transfusions.\\n\\nThey will accept COVID vaccination.\\n\\nhttps://t.co/XTBavsARrS'>], includes={'users': [<User id=1421400643588214784 name=Cogito Ergo Sum username=CogitoInGa>, <User id=78764820 name=R S D username=eltigre2510>, <User id=710980276843913218 name=Bagryel username=byel233>, <User id=14382965 name=Cilene Bonfim username=CileneBonfim>, <User id=1947625410 name=EricBattistelliColetivo#lula1️⃣3️⃣ #MarielleFranco username=EricBattistelli>, <User id=872869696613355524 name=Otinho Oliveira username=OliveiraOtinho>, <User id=330327673 name=redneck macho username=25ASKE>, <User id=1533303219874578434 name=MAGA 𝘰𝘳𝘪𝘨𝘪𝘯𝘢𝘭𝘪𝘴𝘵 username=MAGAoriginalist>, <User id=53245871 name=BusinessWorld username=bworldph>, <User id=767864014214922241 name=azul 🦋 out now username=izycastelano>, <User id=1144073395342123008 name=MSTurner 1️⃣3️⃣🚩⚒️ obviamente parodia username=MSTurner13Lula>, <User id=1707861746 name=Gammalliel Gammasseb username=vilbramsavarams>, <User id=1119544596 name=DroitsPersonneCanada username=DroitPersonneCa>, <User id=254121584 name=La Verdad de Monagas username=laverdadmo>, <User id=109888042 name=John Caldwell username=crashthings>, <User id=1521492420797636609 name=Lora username=Lora_unusual>, <User id=972550984500117505 name=🌻🏳️‍🌈Britt Rose🏳️‍🌈🌻 username=INeedADamnNap>, <User id=327484803 name=WSJ Central Banks username=WSJCentralBanks>, <User id=1239863361946468353 name=Maurice Maisonneuve username=MauriceMaisonn1>, <User id=1008014850772164608 name=Manish Damor username=ManishD51880628>, <User id=89795171 name=Robin Lear username=robinlear>, <User id=1576860767315546112 name=Eliazar Arques Chover username=notegames94>, <User id=1887530558 name=MUSINGUZI PATRICK (MP OWAITU) username=musinguzi_mp>, <User id=1568277564480790536 name=Robert Cousins username=RobertC50189029>, <User id=1881313802 name=Ruben D. Arvizu username=RubenDArvizu>, <User id=4269003074 name=VictoriaSewage username=VictoriaSewage>, <User id=1559984635307667456 name=Jude:Threat To Democracy username=SurfTheSpect2>, <User id=1487490838582149121 name=JTighe username=JTighe1873>, <User id=1272144279717150722 name=SpeerGrüße / SpeerCast username=speergruesse>, <User id=217551387 name=anjinho username=nigbzr>, <User id=1321975083724951552 name=Candrika Dini Khairani, MD, MMSc username=CandrikaDini>, <User id=1375073741533810696 name=els username=emg1863>, <User id=1061172590 name=Matthew Vallone username=MattVallone>, <User id=1449750495028027392 name=Información sobre criptomonedas y divisas username=InfoCriptDivisa>, <User id=146824616 name=Manuel Moreno username=eduardo087914>, <User id=1586072414366072832 name=Mr Ray username=ernie_ray14>, <User id=803253116212744192 name=Pat Weatherman username=Cowboy1942>, <User id=1180076120 name=El Periódico De Monagas username=elPeriodicoDM>, <User id=841866918227279872 name=Ali tfaili username=Alitfaili2>, <User id=1482727353222578180 name=tom kopi username=TomKopi>, <User id=813738415170719744 name=Mandy Lee Lyness username=LeeLyness>, <User id=1506565792304975882 name=DIALOGICA edutainment tool username=DIALOGICA10>, <User id=4795801093 name=Andrew Chen username=achenfinance>, <User id=1234945885618016257 name=Nos gusta el Gotelé 🎨🖌 username=loveGotele>, <User id=1412446075261272072 name=Giftoz username=Giftoz13>, <User id=187964112 name=Joshua Claytor username=JoshuaClaytor>, <User id=1578551094820708352 name=DiOMar username=DioMar1181>, <User id=1589145191759245312 name=OrthodoxyPC username=OrthodoxyPC>, <User id=1427176217388535819 name=Martin 🇮🇳 username=Martin_d1982>, <User id=26618233 name=CB username=crb0712>, <User id=1490816264247328769 name=Chris B username=ChrisB58922801>, <User id=1379945014533484545 name=Jose A Llorente username=Antonio88690983>, <User id=1354560999702089732 name=Teddy Roosevelt's Mustache username=mustache_teddy>, <User id=2466146972 name=Marked safe from mainstream media lies username=ronsteryoung>, <User id=3329591867 name=Eastwood101 username=MarieTattersall>, <User id=1421199318984368136 name=AntiCryptoAnCap username=GrayMan1300cc>, <User id=1486983626826866693 name=Daniel Hadas username=DanielHadas2>, <User id=1325410222916194304 name=COVID-19 CARE username=COVID_19CARE>, <User id=1533060401578901505 name=Jyoti Dahiya username=dahiyajyoti860>, <User id=3029808911 name=My Guided Tours username=MyGuidedTours>, <User id=1551089826849558530 name=Johannes Rauch (Privat) username=Johannes_Rauch2>, <User id=1523465195787636738 name=Matt Rascoe username=RascoeMatt>, <User id=14872161 name=♀♥ Venus Banuelos username=cybervenus>, <User id=1422676766682923020 name=The Memory Whole 🇺🇸🇨🇦🚛 username=NunyaBi04301962>, <User id=99198877 name=Gin username=Gin_gerr>, <User id=1551239518480584704 name=Nicole's_in_AB_#TrudeauMustGo username=Zone3Garden>, <User id=1429744283653914624 name=The Sen10eL username=s3n10el>, <User id=1156179945758085126 name=West Toronto Ontario Health Team username=WestTorontoOHT>, <User id=313385516 name=Navroop Singh username=NavroopSingh_>, <User id=349846669 name=Eliane Faria Vicari username=elianevicari68>, <User id=1553789484 name=📍Dr.C.Misiak🇩🇪Psychologist🇹🇷🇱🇰🇰🇪🇻🇳🇵🇭 username=foobsr>, <User id=2998810419 name=Just a Thought or 2 username=JustaThoughtR2>, <User id=1536765276687159296 name=Bellas blue 🗿 username=bellasblue1>, <User id=1248187241874313216 name=Veyz username=PkVeyz>, <User id=1293978678485905408 name=Valor username=a_defiant_gay>, <User id=62464176 name=Raj Karsewak username=rajkarsewak>, <User id=899626423 name=veromat username=veromat52>, <User id=456982879 name=The Cynic username=cmlarl>, <User id=714586644200964096 name=Justo Velasco 🇪🇸 username=justo_vk>, <User id=1161067177 name=Anthony username=tonydamico54>, <User id=1546056905876971521 name=Gabriella Iucci username=iucci_gabriella>, <User id=1576244863 name=larissa. username=Iarissz>, <User id=907954476702629890 name=Forsyth County Dept of Public Health username=fcpublichealth>, <User id=67107066 name=Francesco Bukaniere username=Bukaniere>, <User id=217371122 name=Male Survivors Trust username=MSurvivorsTrust>, <User id=1701380982 name=TecnoXplora username=TecnoXplora>, <User id=1304369016035655680 name=Meila Sandi username=MeilaSandi>, <User id=1518709503272828934 name=Alexandre Teixeira username=Alexand74475875>, <User id=1432414714156486664 name=GSmith username=GSmithInKC>, <User id=1066557923814506496 name=Fernando Santiago username=FernanddoSanti>, <User id=1321156446961229825 name=IMOFFENDED™️ username=ministeruvtruth>, <User id=1555221686 name=Alyssa Katze username=AlleeCatBlues>, <User id=1421959645283995649 name=SCMARIARita username=rita_scm>, <User id=1247501995021225984 name=Amirul Darwin. username=acrophobiadude>, <User id=1533730099480117249 name=Tobias Steffan username=steffan_tobias>, <User id=1588574465667088384 name=VOTE RED SAVE AMERICA FROM DEMOCRAT COMMUNISM username=VOTE_RED_7>, <User id=1004223694644957184 name=Lieschen Müller username=Raketenland>, <User id=146077426 name=Ara P username=araporto>, <User id=908732349130711041 name=Robert A Keyboards username=KeyboardsRobert>, <User id=202360253 name=(((GPP))) username=Gregory443000>]}, errors=[], meta={'newest_id': '1589630007831207936', 'oldest_id': '1589629870048698368', 'result_count': 100, 'next_token': 'b26v89c19zqg8o3fpzen8hslooq30umbbvhs4yw5095kt'})"
      ]
     },
     "execution_count": 21,
     "metadata": {},
     "output_type": "execute_result"
    }
   ],
   "source": [
    "tweets"
   ]
  },
  {
   "cell_type": "markdown",
   "id": "9e648c90",
   "metadata": {},
   "source": [
    "### Get user ID and screen name  + description "
   ]
  },
  {
   "cell_type": "code",
   "execution_count": 22,
   "id": "6a50138d",
   "metadata": {},
   "outputs": [
    {
     "data": {
      "text/plain": [
       "'QuantInsti'"
      ]
     },
     "execution_count": 22,
     "metadata": {},
     "output_type": "execute_result"
    }
   ],
   "source": [
    "put_your_user_id = \"869660137\"\n",
    "user1 = api.get_user(user_id = put_your_user_id)\n",
    "user1.name"
   ]
  },
  {
   "cell_type": "code",
   "execution_count": 25,
   "id": "3bbe5098",
   "metadata": {},
   "outputs": [
    {
     "data": {
      "text/plain": [
       "869660137"
      ]
     },
     "execution_count": 25,
     "metadata": {},
     "output_type": "execute_result"
    }
   ],
   "source": [
    "put_your_screen_name = \"quantinsti\"\n",
    "user2 = api.get_user(screen_name=put_your_screen_name)\n",
    "user2.id"
   ]
  },
  {
   "cell_type": "code",
   "execution_count": 26,
   "id": "1c8d518f",
   "metadata": {},
   "outputs": [
    {
     "name": "stdout",
     "output_type": "stream",
     "text": [
      "You want to be an algorithmic trader? QuantInsti is your go-to resource for all things quant. Jump right in!\n"
     ]
    }
   ],
   "source": [
    "print(user1.description)"
   ]
  },
  {
   "cell_type": "code",
   "execution_count": 27,
   "id": "d721b70c",
   "metadata": {},
   "outputs": [
    {
     "name": "stdout",
     "output_type": "stream",
     "text": [
      "The user QuantInsti was created on 10/09/2012, 10:48:17\n"
     ]
    }
   ],
   "source": [
    "print(f'The user {user2.screen_name} was created on {(user2.created_at).strftime(\"%m/%d/%Y, %H:%M:%S\")}')\n"
   ]
  },
  {
   "cell_type": "markdown",
   "id": "c26c9c30",
   "metadata": {},
   "source": [
    "### get follower count"
   ]
  },
  {
   "cell_type": "code",
   "execution_count": 28,
   "id": "1e985e75",
   "metadata": {},
   "outputs": [
    {
     "name": "stdout",
     "output_type": "stream",
     "text": [
      "The user QuantInsti has 11144 followers.\n"
     ]
    }
   ],
   "source": [
    "print(f\"The user {user2.screen_name} has {user2.followers_count} followers.\")\n"
   ]
  },
  {
   "cell_type": "markdown",
   "id": "1b71d7e9",
   "metadata": {},
   "source": [
    "### getting tweets by keywords"
   ]
  },
  {
   "cell_type": "code",
   "execution_count": 30,
   "id": "27093301",
   "metadata": {},
   "outputs": [],
   "source": [
    "keyword = 'cryptocurrencies'\n",
    "limit=300\n",
    "\n",
    "tweets = tweepy.Cursor(api.search_tweets, q=keyword, tweet_mode='extended').items(limit)"
   ]
  },
  {
   "cell_type": "code",
   "execution_count": 31,
   "id": "c75dd637",
   "metadata": {},
   "outputs": [
    {
     "data": {
      "text/plain": [
       "<tweepy.cursor.ItemIterator at 0x1bcde4a9250>"
      ]
     },
     "execution_count": 31,
     "metadata": {},
     "output_type": "execute_result"
    }
   ],
   "source": [
    "tweets"
   ]
  },
  {
   "cell_type": "markdown",
   "id": "40843b99",
   "metadata": {},
   "source": [
    "### getting tweets by hashtag"
   ]
  },
  {
   "cell_type": "code",
   "execution_count": 32,
   "id": "3035ba32",
   "metadata": {},
   "outputs": [],
   "source": [
    "hashtag = '#luna2'\n",
    "limit=1\n",
    "\n",
    "tweets = tweepy.Cursor(api.search_tweets, q=hashtag, tweet_mode='extended').items(limit)"
   ]
  },
  {
   "cell_type": "code",
   "execution_count": 33,
   "id": "72eb5647",
   "metadata": {},
   "outputs": [
    {
     "data": {
      "text/plain": [
       "<tweepy.cursor.ItemIterator at 0x1bcde4a9c10>"
      ]
     },
     "execution_count": 33,
     "metadata": {},
     "output_type": "execute_result"
    }
   ],
   "source": [
    "tweets"
   ]
  },
  {
   "cell_type": "markdown",
   "id": "d3635b8c",
   "metadata": {},
   "source": [
    "### Full archive tweets ophalen "
   ]
  },
  {
   "cell_type": "code",
   "execution_count": 36,
   "id": "23248636",
   "metadata": {},
   "outputs": [],
   "source": [
    "keywords = \"ethereum - RT\"\n",
    "limit = 20"
   ]
  },
  {
   "cell_type": "code",
   "execution_count": 40,
   "id": "ad48b101",
   "metadata": {},
   "outputs": [],
   "source": [
    "tweets = tweepy.Cursor(api.search_full_archive, label = 'test', query = keywords, fromDate = '202108200000', toData = '202108201200').items(limit)"
   ]
  },
  {
   "cell_type": "code",
   "execution_count": null,
   "id": "ab4f5908",
   "metadata": {},
   "outputs": [],
   "source": []
  }
 ],
 "metadata": {
  "kernelspec": {
   "display_name": "Python 3 (ipykernel)",
   "language": "python",
   "name": "python3"
  },
  "language_info": {
   "codemirror_mode": {
    "name": "ipython",
    "version": 3
   },
   "file_extension": ".py",
   "mimetype": "text/x-python",
   "name": "python",
   "nbconvert_exporter": "python",
   "pygments_lexer": "ipython3",
   "version": "3.9.7"
  }
 },
 "nbformat": 4,
 "nbformat_minor": 5
}
