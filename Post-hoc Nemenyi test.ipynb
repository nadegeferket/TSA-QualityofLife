{
 "cells": [
  {
   "cell_type": "code",
   "execution_count": 10,
   "id": "07427fda",
   "metadata": {},
   "outputs": [
    {
     "ename": "SyntaxError",
     "evalue": "invalid syntax (Temp/ipykernel_22476/2187004568.py, line 1)",
     "output_type": "error",
     "traceback": [
      "\u001b[1;36m  File \u001b[1;32m\"C:\\Users\\nadeg\\AppData\\Local\\Temp/ipykernel_22476/2187004568.py\"\u001b[1;36m, line \u001b[1;32m1\u001b[0m\n\u001b[1;33m    pip install scikit-posthocs\u001b[0m\n\u001b[1;37m        ^\u001b[0m\n\u001b[1;31mSyntaxError\u001b[0m\u001b[1;31m:\u001b[0m invalid syntax\n"
     ]
    }
   ],
   "source": [
    "pip install scikit-posthocs\n",
    "from scipy import stats\n",
    "import scikit_posthocs as sp\n",
    "import numpy as np"
   ]
  },
  {
   "cell_type": "code",
   "execution_count": 11,
   "id": "c7d3b0a9",
   "metadata": {},
   "outputs": [
    {
     "name": "stdout",
     "output_type": "stream",
     "text": [
      "Requirement already satisfied: scikit-posthocs in c:\\users\\nadeg\\anaconda3\\lib\\site-packages (0.7.0)\n",
      "Requirement already satisfied: scipy in c:\\users\\nadeg\\anaconda3\\lib\\site-packages (from scikit-posthocs) (1.7.1)\n",
      "Requirement already satisfied: pandas>=0.20.0 in c:\\users\\nadeg\\anaconda3\\lib\\site-packages (from scikit-posthocs) (1.3.4)\n",
      "Requirement already satisfied: numpy in c:\\users\\nadeg\\anaconda3\\lib\\site-packages (from scikit-posthocs) (1.22.4)\n",
      "Requirement already satisfied: statsmodels in c:\\users\\nadeg\\anaconda3\\lib\\site-packages (from scikit-posthocs) (0.12.2)\n",
      "Requirement already satisfied: seaborn in c:\\users\\nadeg\\anaconda3\\lib\\site-packages (from scikit-posthocs) (0.11.2)\n",
      "Requirement already satisfied: matplotlib in c:\\users\\nadeg\\anaconda3\\lib\\site-packages (from scikit-posthocs) (3.4.3)\n",
      "Requirement already satisfied: pytz>=2017.3 in c:\\users\\nadeg\\anaconda3\\lib\\site-packages (from pandas>=0.20.0->scikit-posthocs) (2021.3)\n",
      "Requirement already satisfied: python-dateutil>=2.7.3 in c:\\users\\nadeg\\anaconda3\\lib\\site-packages (from pandas>=0.20.0->scikit-posthocs) (2.8.2)\n",
      "Requirement already satisfied: six>=1.5 in c:\\users\\nadeg\\anaconda3\\lib\\site-packages (from python-dateutil>=2.7.3->pandas>=0.20.0->scikit-posthocs) (1.15.0)\n",
      "Requirement already satisfied: kiwisolver>=1.0.1 in c:\\users\\nadeg\\anaconda3\\lib\\site-packages (from matplotlib->scikit-posthocs) (1.3.1)\n",
      "Requirement already satisfied: pyparsing>=2.2.1 in c:\\users\\nadeg\\anaconda3\\lib\\site-packages (from matplotlib->scikit-posthocs) (3.0.4)\n",
      "Requirement already satisfied: pillow>=6.2.0 in c:\\users\\nadeg\\anaconda3\\lib\\site-packages (from matplotlib->scikit-posthocs) (8.4.0)\n",
      "Requirement already satisfied: cycler>=0.10 in c:\\users\\nadeg\\anaconda3\\lib\\site-packages (from matplotlib->scikit-posthocs) (0.10.0)\n",
      "Requirement already satisfied: patsy>=0.5 in c:\\users\\nadeg\\anaconda3\\lib\\site-packages (from statsmodels->scikit-posthocs) (0.5.2)\n",
      "Note: you may need to restart the kernel to use updated packages.\n"
     ]
    },
    {
     "name": "stderr",
     "output_type": "stream",
     "text": [
      "WARNING: Ignoring invalid distribution -rotobuf (c:\\users\\nadeg\\anaconda3\\lib\\site-packages)\n",
      "WARNING: Ignoring invalid distribution -rotobuf (c:\\users\\nadeg\\anaconda3\\lib\\site-packages)\n",
      "WARNING: Ignoring invalid distribution -rotobuf (c:\\users\\nadeg\\anaconda3\\lib\\site-packages)\n",
      "WARNING: Ignoring invalid distribution -rotobuf (c:\\users\\nadeg\\anaconda3\\lib\\site-packages)\n",
      "WARNING: Ignoring invalid distribution -rotobuf (c:\\users\\nadeg\\anaconda3\\lib\\site-packages)\n",
      "WARNING: Ignoring invalid distribution -rotobuf (c:\\users\\nadeg\\anaconda3\\lib\\site-packages)\n"
     ]
    }
   ],
   "source": [
    "pip install scikit-posthocs"
   ]
  },
  {
   "cell_type": "code",
   "execution_count": 12,
   "id": "d4e349a7",
   "metadata": {},
   "outputs": [],
   "source": [
    "from scipy import stats\n",
    "import scikit_posthocs as sp\n",
    "import numpy as np"
   ]
  },
  {
   "cell_type": "code",
   "execution_count": 13,
   "id": "353e4aa6",
   "metadata": {},
   "outputs": [],
   "source": [
    "# Data groups\n",
    "data_group1 = [44, 56, 53, 46, 53,\n",
    "               46, 42, 47, 46, 45]\n",
    "data_group2 = [35, 46, 38, 47, 37,\n",
    "               38, 44, 46, 44, 35]\n",
    "data_group3 = [32, 42, 54, 43, 32,\n",
    "               32, 43, 36, 8, 29]"
   ]
  },
  {
   "cell_type": "code",
   "execution_count": 14,
   "id": "deaa1394",
   "metadata": {},
   "outputs": [
    {
     "data": {
      "text/plain": [
       "FriedmanchisquareResult(statistic=8.599999999999994, pvalue=0.01356855901220097)"
      ]
     },
     "execution_count": 14,
     "metadata": {},
     "output_type": "execute_result"
    }
   ],
   "source": [
    "# Conduct the Friedman Test\n",
    "stats.friedmanchisquare(data_group1, data_group2, data_group3)"
   ]
  },
  {
   "cell_type": "code",
   "execution_count": 15,
   "id": "53582ee2",
   "metadata": {},
   "outputs": [
    {
     "data": {
      "text/html": [
       "<div>\n",
       "<style scoped>\n",
       "    .dataframe tbody tr th:only-of-type {\n",
       "        vertical-align: middle;\n",
       "    }\n",
       "\n",
       "    .dataframe tbody tr th {\n",
       "        vertical-align: top;\n",
       "    }\n",
       "\n",
       "    .dataframe thead th {\n",
       "        text-align: right;\n",
       "    }\n",
       "</style>\n",
       "<table border=\"1\" class=\"dataframe\">\n",
       "  <thead>\n",
       "    <tr style=\"text-align: right;\">\n",
       "      <th></th>\n",
       "      <th>0</th>\n",
       "      <th>1</th>\n",
       "      <th>2</th>\n",
       "    </tr>\n",
       "  </thead>\n",
       "  <tbody>\n",
       "    <tr>\n",
       "      <th>0</th>\n",
       "      <td>1.000000</td>\n",
       "      <td>0.503942</td>\n",
       "      <td>0.010210</td>\n",
       "    </tr>\n",
       "    <tr>\n",
       "      <th>1</th>\n",
       "      <td>0.503942</td>\n",
       "      <td>1.000000</td>\n",
       "      <td>0.173535</td>\n",
       "    </tr>\n",
       "    <tr>\n",
       "      <th>2</th>\n",
       "      <td>0.010210</td>\n",
       "      <td>0.173535</td>\n",
       "      <td>1.000000</td>\n",
       "    </tr>\n",
       "  </tbody>\n",
       "</table>\n",
       "</div>"
      ],
      "text/plain": [
       "          0         1         2\n",
       "0  1.000000  0.503942  0.010210\n",
       "1  0.503942  1.000000  0.173535\n",
       "2  0.010210  0.173535  1.000000"
      ]
     },
     "execution_count": 15,
     "metadata": {},
     "output_type": "execute_result"
    }
   ],
   "source": [
    "# Combine three groups into one array\n",
    "data = np.array([data_group1, data_group2, data_group3])\n",
    " \n",
    "# Conduct the Nemenyi post-hoc test\n",
    "sp.posthoc_nemenyi_friedman(data.T)"
   ]
  },
  {
   "cell_type": "code",
   "execution_count": null,
   "id": "1a78321c",
   "metadata": {},
   "outputs": [],
   "source": []
  }
 ],
 "metadata": {
  "kernelspec": {
   "display_name": "Python 3 (ipykernel)",
   "language": "python",
   "name": "python3"
  },
  "language_info": {
   "codemirror_mode": {
    "name": "ipython",
    "version": 3
   },
   "file_extension": ".py",
   "mimetype": "text/x-python",
   "name": "python",
   "nbconvert_exporter": "python",
   "pygments_lexer": "ipython3",
   "version": "3.9.7"
  }
 },
 "nbformat": 4,
 "nbformat_minor": 5
}
