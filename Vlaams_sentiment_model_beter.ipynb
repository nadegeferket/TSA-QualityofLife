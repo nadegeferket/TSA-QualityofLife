{
 "cells": [
  {
   "cell_type": "code",
   "execution_count": 83,
   "id": "64e5dff0",
   "metadata": {
    "scrolled": true
   },
   "outputs": [
    {
     "name": "stderr",
     "output_type": "stream",
     "text": [
      "Predicting...: 100%|██████████| 1/1 [00:01<00:00,  1.55s/it]\n"
     ]
    },
    {
     "data": {
      "text/plain": [
       "['POSITIVE',\n",
       " 'POSITIVE',\n",
       " 'POSITIVE',\n",
       " 'NEGATIVE',\n",
       " 'POSITIVE',\n",
       " 'POSITIVE',\n",
       " 'NEUTRAL']"
      ]
     },
     "execution_count": 83,
     "metadata": {},
     "output_type": "execute_result"
    }
   ],
   "source": [
    "from twitter_sentiment_classifier import batch_predict\n",
    "\n",
    "import pandas\n",
    "data = pandas.read_csv('Downloads\\\\tweet_per_provincie_welvarendOost_Vlaanderen.csv') #geef eigen doc in\n",
    "texts = data['text']\n",
    "lijst = list(texts)\n",
    "for i in range(0,len(texts)):\n",
    "    #preprocessing stap: vervangen van einde lijn naar spatie\n",
    "    lijst[i] = lijst[i].replace(\"\\n\",\" \")\n",
    "    lijst[i] = lijst[i].replace(\"\\t\",\" \")\n",
    "    lijst[i] = lijst[i].replace(\"\\r\",\" \")\n",
    "    \n",
    "batch_predict(lijst) "
   ]
  },
  {
   "cell_type": "code",
   "execution_count": null,
   "id": "67a80335",
   "metadata": {},
   "outputs": [],
   "source": []
  }
 ],
 "metadata": {
  "kernelspec": {
   "display_name": "Python 3 (ipykernel)",
   "language": "python",
   "name": "python3"
  },
  "language_info": {
   "codemirror_mode": {
    "name": "ipython",
    "version": 3
   },
   "file_extension": ".py",
   "mimetype": "text/x-python",
   "name": "python",
   "nbconvert_exporter": "python",
   "pygments_lexer": "ipython3",
   "version": "3.9.7"
  }
 },
 "nbformat": 4,
 "nbformat_minor": 5
}
