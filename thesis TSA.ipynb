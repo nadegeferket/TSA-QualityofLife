{
 "cells": [
  {
   "cell_type": "code",
   "execution_count": null,
   "id": "e21cf466",
   "metadata": {},
   "outputs": [],
   "source": [
    "#Data collection when filer endpoint is used. In this way you are able to add keywords, userIDs and locations to search"
   ]
  },
  {
   "cell_type": "code",
   "execution_count": null,
   "id": "0ee6d644",
   "metadata": {},
   "outputs": [],
   "source": [
    "from tweepy.streaming import StreamListener\n",
    "import time\n",
    "class SListener(StreamListener):\n",
    "    def \n"
   ]
  },
  {
   "cell_type": "code",
   "execution_count": null,
   "id": "e1a106aa",
   "metadata": {},
   "outputs": [],
   "source": [
    "from tweepy import OAuthHandler\n",
    "from tweepy import API\n",
    "consumer_key= 7QYx97CYLi5FGgfqdtqVF9hMq\n",
    "consumer_secret= oKsnPVjyMB7t41F485ykygIARdK83pPnttfJVsTeFCO7w5xinz\n",
    "acces_token= 1444958072779288590-Vy9PjHzfNeN16u8McWIJsGfk2LxQhN\n",
    "acces_token_secret = 6s6GdikBh8LCC40YLyjrO6C5HVV5yy5kqJZKASRlZb1s4\n",
    "auth= 0AuthHanddler(consumer_key, consumer_secret)\n",
    "auth.set_acces_token(acces_token,acces_token_secret)\n",
    "api=API(auth)\n",
    "\n",
    "from tweepy import Stream\n",
    "keywords_to_track = ['#rstats', '#python']\n",
    "listen = Slistener(api)\n",
    "stream = Stream(auth,listen)\n",
    "stream.filter(track = keywords_to_track)\n",
    "\n",
    "#convert the twitter json output to csv and save files\n",
    "tweet, user= dl.to_dataframe(tweet_list)\n",
    "tweet.to_csv('output_path')\n",
    "user.to_csv('output_path')"
   ]
  },
  {
   "cell_type": "code",
   "execution_count": null,
   "id": "fa7fa81e",
   "metadata": {},
   "outputs": [],
   "source": [
    "#Data collection when sample endpoint is used:"
   ]
  },
  {
   "cell_type": "code",
   "execution_count": null,
   "id": "d3bb0834",
   "metadata": {},
   "outputs": [],
   "source": [
    "from utils.data_collection import Dataloader\n",
    "bearer_token = \"AAAAAAAAAAAAAAAAAAAAAHXvUQEAAAAAPQ%2FXl8vv2ZxuPlNEMn%2BbAvOg428%3DCNmiqFmvchzJIzzhLvyFBvL1mnOuwGjALg6uSbECpZIojXxUIM\"\n",
    "dl = DataLoader(bearer_token)\n",
    "\n",
    "#retrieve 100 tweets, 50 on 20/10/2022 and 50 on 21/10/2022 \n",
    "tweet_list= dl.retrieve_tweet(start_list=['2022-10-20T00:00:00.000Z','2022-10-20T00:00:00.000Z'],\n",
    "                               end_list=['2022-10-21T00:00:00.000Z','2022-10-21T00:00:00.000Z'],\n",
    "                               keyword=\"lang:en\",\n",
    "                               tweet_per_period=50\n",
    "                               )\n",
    "#convert the twitter json output to csv and save files\n",
    "tweet, user= dl.to_dataframe(tweet_list)\n",
    "tweet.to_csv('output_path')\n",
    "user.to_csv('output_path')"
   ]
  }
 ],
 "metadata": {
  "kernelspec": {
   "display_name": "Python 3 (ipykernel)",
   "language": "python",
   "name": "python3"
  },
  "language_info": {
   "codemirror_mode": {
    "name": "ipython",
    "version": 3
   },
   "file_extension": ".py",
   "mimetype": "text/x-python",
   "name": "python",
   "nbconvert_exporter": "python",
   "pygments_lexer": "ipython3",
   "version": "3.9.12"
  }
 },
 "nbformat": 4,
 "nbformat_minor": 5
}
